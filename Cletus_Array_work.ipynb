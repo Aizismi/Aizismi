{
  "nbformat": 4,
  "nbformat_minor": 0,
  "metadata": {
    "colab": {
      "provenance": []
    },
    "kernelspec": {
      "name": "python3",
      "display_name": "Python 3"
    },
    "language_info": {
      "name": "python"
    }
  },
  "cells": [
    {
      "cell_type": "code",
      "execution_count": 2,
      "metadata": {
        "colab": {
          "base_uri": "https://localhost:8080/"
        },
        "id": "6xkpqn-XrEDG",
        "outputId": "0a494fc8-35ba-4ba7-ed03-f380f92dbf5c"
      },
      "outputs": [
        {
          "output_type": "stream",
          "name": "stdout",
          "text": [
            "Original array:\n",
            "[[12 68 58 45 75]\n",
            " [57  2 28 29 62]\n",
            " [59 65 96 48 45]\n",
            " [92 35 38 75 87]\n",
            " [89 48 69 46 12]]\n",
            "\n",
            "Rotated array:\n",
            "[[57 12 68 58 45]\n",
            " [59 65  2 28 75]\n",
            " [92 35 96 29 62]\n",
            " [89 38 75 48 45]\n",
            " [48 69 46 12 87]]\n"
          ]
        }
      ],
      "source": [
        "import numpy as np\n",
        "\n",
        "def rotate_rings(matrix):\n",
        "    n = len(matrix)\n",
        "    rotated = matrix.copy()\n",
        "\n",
        "    # For each ring level, starting from outermost\n",
        "    for ring in range(n // 2):\n",
        "        # Store the positions we need to rotate\n",
        "        positions = []\n",
        "\n",
        "        # Top row\n",
        "        for j in range(ring, n-ring-1):\n",
        "            positions.append((ring, j))\n",
        "\n",
        "        # Right column\n",
        "        for i in range(ring, n-ring-1):\n",
        "            positions.append((i, n-ring-1))\n",
        "\n",
        "        # Bottom row\n",
        "        for j in range(n-ring-1, ring, -1):\n",
        "            positions.append((n-ring-1, j))\n",
        "\n",
        "        # Left column\n",
        "        for i in range(n-ring-1, ring, -1):\n",
        "            positions.append((i, ring))\n",
        "\n",
        "        # Perform the rotation\n",
        "        values = [matrix[pos[0]][pos[1]] for pos in positions]\n",
        "        values = [values[-1]] + values[:-1]  # Rotate one position\n",
        "\n",
        "        # Update the values in rotated matrix\n",
        "        for (pos, val) in zip(positions, values):\n",
        "            rotated[pos[0]][pos[1]] = val\n",
        "\n",
        "    return rotated\n",
        "\n",
        "# 1. Create random array\n",
        "n = 5  # Size of the array (you can change this)\n",
        "original = np.random.randint(0, 100, size=(n, n))\n",
        "\n",
        "# Print original array\n",
        "print(\"Original array:\")\n",
        "print(original)\n",
        "\n",
        "# 2. & 3. Rotate and print result\n",
        "rotated = rotate_rings(original)\n",
        "print(\"\\nRotated array:\")\n",
        "print(rotated)"
      ]
    }
  ]
}